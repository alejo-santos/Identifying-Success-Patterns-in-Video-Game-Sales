import pandas as pd
games = pd.read_csv('datasets/games.csv')
games.head()
